{
 "cells": [
  {
   "cell_type": "code",
   "execution_count": 1,
   "metadata": {},
   "outputs": [],
   "source": [
    "import os\n",
    "import urllib.request\n",
    "import zipfile\n",
    "import tarfile\n",
    "import progressbar"
   ]
  },
  {
   "cell_type": "code",
   "execution_count": 2,
   "metadata": {},
   "outputs": [],
   "source": [
    "import glob\n",
    "import os\n",
    "import pickle\n",
    "import xml.etree.ElementTree as ET\n",
    "from os import listdir, getcwd\n",
    "from os.path import join\n",
    "import shutil\n",
    "from tqdm import tqdm"
   ]
  },
  {
   "cell_type": "code",
   "execution_count": 3,
   "metadata": {},
   "outputs": [
    {
     "data": {
      "text/plain": [
       "True"
      ]
     },
     "execution_count": 3,
     "metadata": {},
     "output_type": "execute_result"
    }
   ],
   "source": [
    "import torch\n",
    "torch.cuda.is_available()"
   ]
  },
  {
   "cell_type": "code",
   "execution_count": 4,
   "metadata": {},
   "outputs": [],
   "source": [
    "# プログレスバーを表示させる関数\n",
    "pbar = None\n",
    "def show_progress(block_num, block_size, total_size):\n",
    "    global pbar\n",
    "    if pbar is None:\n",
    "        pbar = progressbar.ProgressBar(maxval=total_size)\n",
    "        pbar.start()\n",
    "\n",
    "    downloaded = block_num * block_size\n",
    "    if downloaded < total_size:\n",
    "        pbar.update(downloaded)\n",
    "    else:\n",
    "        pbar.finish()\n",
    "        pbar = None"
   ]
  },
  {
   "cell_type": "code",
   "execution_count": 5,
   "metadata": {},
   "outputs": [
    {
     "data": {
      "text/plain": [
       "'c:\\\\Users\\\\yuuki\\\\Kaggle\\\\object_detection_try\\\\voc'"
      ]
     },
     "execution_count": 5,
     "metadata": {},
     "output_type": "execute_result"
    }
   ],
   "source": [
    "# カレントdirを確認\n",
    "getcwd()"
   ]
  },
  {
   "cell_type": "code",
   "execution_count": 6,
   "metadata": {},
   "outputs": [],
   "source": [
    "# データを保存するdirを作成\n",
    "data_dir = \"./data/\"\n",
    "os.makedirs(data_dir, exist_ok=True)"
   ]
  },
  {
   "cell_type": "code",
   "execution_count": 7,
   "metadata": {},
   "outputs": [],
   "source": [
    "# voc2012のデータをダウンロード\n",
    "# ダウンロード先のurl\n",
    "url = \"http://host.robots.ox.ac.uk/pascal/VOC/voc2012/VOCtrainval_11-May-2012.tar\"\n",
    "\n",
    "# ダウンロードするデータが保存される先\n",
    "target_path = os.path.join(data_dir, \"VOCtrainval_11-May-2012.tar\")\n",
    "\n",
    "# もし保存先がなかったらダウンロードするというコード\n",
    "# 指定されたパスにファイルが存在しない場合、処理を実行します。\n",
    "if not os.path.exists(target_path):\n",
    "    # 指定されたURLからファイルをダウンロードします。\n",
    "    urllib.request.urlretrieve(url, target_path, show_progress)\n",
    "    # ダウンロードしたファイルを解凍し、指定されたディレクトリに展開します。\n",
    "    tar= tarfile.TarFile(target_path)\n",
    "    tar.extract(data_dir)\n",
    "    tar.close()"
   ]
  },
  {
   "cell_type": "markdown",
   "metadata": {},
   "source": [
    "## tarfileが展開されないのでguiでdatadirで展開を行った"
   ]
  },
  {
   "cell_type": "code",
   "execution_count": 8,
   "metadata": {},
   "outputs": [
    {
     "data": {
      "text/plain": [
       "'./data/VOCtrainval_11-May-2012.tar'"
      ]
     },
     "execution_count": 8,
     "metadata": {},
     "output_type": "execute_result"
    }
   ],
   "source": [
    "target_path"
   ]
  },
  {
   "cell_type": "markdown",
   "metadata": {},
   "source": [
    "## VOCのXMLフォーマットからYOLOのTXTフォーマットに変換"
   ]
  },
  {
   "cell_type": "code",
   "execution_count": 9,
   "metadata": {},
   "outputs": [],
   "source": [
    "# vocのクラスの確認\n",
    "# urlのサイトから確認\n",
    "classes = ['aeroplane', 'bicycle', 'bird', 'boat',\n",
    "        'bottle', 'bus', 'car', 'cat', 'chair',\n",
    "        'cow', 'diningtable', 'dog', 'horse',\n",
    "        'motorbike', 'person', 'pottedplant',\n",
    "        'sheep', 'sofa', 'train', 'tvmonitor']"
   ]
  },
  {
   "cell_type": "code",
   "execution_count": 10,
   "metadata": {},
   "outputs": [],
   "source": [
    "def getImagesInDir(dir_path):\n",
    "  \"\"\"\n",
    "  指定されたディレクトリ内のすべての画像ファイルのパスを取得する関数\n",
    "\n",
    "  Args:\n",
    "      dir_path (str): 画像ファイルを含むディレクトリのパス\n",
    "\n",
    "  Returns:\n",
    "      list: 拡張子付きの画像ファイルパスのリスト (例: \".jpg\")\n",
    "  \"\"\"\n",
    "\n",
    "  image_list = []\n",
    "  for filename in glob.glob(dir_path + '/*.jpg'):\n",
    "    image_list.append(filename)\n",
    "\n",
    "  return image_list\n",
    "\n",
    "\n",
    "def convert(size, box):\n",
    "  \"\"\"\n",
    "  画像サイズに基づいてバウンディングボックス座標を正規化する関数\n",
    "\n",
    "  Args:\n",
    "      size (tuple): 画像の幅と高さを含むタプル (w, h)\n",
    "      box (tuple): バウンディングボックス座標を含むタプル (xmin, xmax, ymin, ymax)\n",
    "\n",
    "  Returns:\n",
    "      tuple: 正規化されたバウンディングボックス座標を含むタプル (x_center, y_center, width, height)\n",
    "  \"\"\"\n",
    "\n",
    "  dw = 1. / size[0]  # 幅の正規化係数\n",
    "  dh = 1. / size[1]  # 高さの正規化係数\n",
    "\n",
    "  x_center = (box[0] + box[1]) / 2.0 - 1  # 中心 x 座標 (正規化)\n",
    "  y_center = (box[2] + box[3]) / 2.0 - 1  # 中心 y 座標 (正規化)\n",
    "  width = box[1] - box[0]  # 元の幅\n",
    "  height = box[3] - box[2]  # 元の高さ\n",
    "\n",
    "  x_center = x_center * dw  # 正規化された中心 x\n",
    "  width = width * dw  # 正規化された幅\n",
    "  y_center = y_center * dh  # 正規化された中心 y\n",
    "  height = height * dh  # 正規化された高さ\n",
    "\n",
    "  return (x_center, y_center, width, height)"
   ]
  },
  {
   "cell_type": "code",
   "execution_count": 11,
   "metadata": {},
   "outputs": [],
   "source": [
    "def convert_annotation(dir_path, output_path, image_path):\n",
    "  \"\"\"\n",
    "  画像の注釈を XML 形式から YOLO 形式のテキストファイルに変換する関数\n",
    "\n",
    "  Args:\n",
    "      dir_path (str): XML 注釈ファイルを含むディレクトリのパス。\n",
    "          ファイル名は拡張子なしで画像ファイル名と一致する必要があります。\n",
    "      output_path (str): 変換されたテキストファイルを保存するディレクトリのパス\n",
    "      image_path (str): 注釈を変換する対象の画像ファイルのパス\n",
    "\n",
    "  Returns:\n",
    "      None\n",
    "  \"\"\"\n",
    "\n",
    "  basename = os.path.basename(image_path)  # 画像パスからファイル名を取得\n",
    "  basename_no_ext = os.path.splitext(basename)[0]  # ファイル名から拡張子を除去\n",
    "\n",
    "  # XML 注釈ファイルを開く\n",
    "  in_file = open(dir_path + '/' + basename_no_ext + '.xml')\n",
    "  tree = ET.parse(in_file)\n",
    "  root = tree.getroot()\n",
    "\n",
    "  # XML から画像サイズを取得\n",
    "  size = root.find('size')\n",
    "  w = int(size.find('width').text)\n",
    "  h = int(size.find('height').text)\n",
    "\n",
    "  # 出力用テキストファイルを開く\n",
    "  out_file = open(output_path + basename_no_ext + '.txt', 'w')\n",
    "  for obj in root.iter('object'):\n",
    "        difficult = obj.find('difficult').text\n",
    "        cls = obj.find('name').text\n",
    "        if cls not in classes or int(difficult)==1:\n",
    "            continue\n",
    "        cls_id = classes.index(cls)\n",
    "        xmlbox = obj.find('bndbox')\n",
    "        b = (float(xmlbox.find('xmin').text), float(xmlbox.find('xmax').text), float(xmlbox.find('ymin').text), float(xmlbox.find('ymax').text))\n",
    "        bb = convert((w,h), b)\n",
    "        out_file.write(str(cls_id) + \" \" + \" \".join([str(a) for a in bb]) + '\\n')"
   ]
  },
  {
   "cell_type": "code",
   "execution_count": 12,
   "metadata": {},
   "outputs": [],
   "source": [
    "# 学習用データ準備\n",
    "data_path = \"data/VOCdevkit/VOC2012/\"\n",
    "imgpath_template = os.path.join(data_path, 'JPEGImages', '%s.jpg')\n",
    "annopath_template = os.path.join(data_path, 'Annotations', '%s.xml')\n",
    "\n",
    "train_id_names = os.path.join(data_path + 'ImageSets/Main/train.txt')\n",
    "val_id_names = os.path.join(data_path + 'ImageSets/Main/val.txt')\n",
    "\n",
    "# 学習用データ\n",
    "train_img_list = []\n",
    "train_anno_list = []\n",
    "for line in open(train_id_names):\n",
    "    file_id = line.strip()\n",
    "    train_img_list.append(f\"{data_path}JPEGImages/{file_id}.jpg\")\n",
    "    train_anno_list.append(f\"{data_path}Annotations/{file_id}.xml\")\n",
    "\n",
    "# 評価用データ\n",
    "val_img_list = []\n",
    "val_anno_list = []\n",
    "for line in open(val_id_names):\n",
    "    file_id = line.strip()\n",
    "    val_img_list.append(f\"{data_path}JPEGImages/{file_id}.jpg\")\n",
    "    val_anno_list.append(f\"{data_path}Annotations/{file_id}.xml\")"
   ]
  },
  {
   "cell_type": "code",
   "execution_count": 15,
   "metadata": {},
   "outputs": [],
   "source": [
    "dst_dir = \"dataset\"\n",
    "os.makedirs(dst_dir, exist_ok=True)\n",
    "os.makedirs(f\"{dst_dir}/train/images/\", exist_ok=True)\n",
    "os.makedirs(f\"{dst_dir}/val/images/\", exist_ok=True)\n",
    "os.makedirs(f\"{dst_dir}/train/labels/\", exist_ok=True)\n",
    "os.makedirs(f\"{dst_dir}/val/labels/\", exist_ok=True)"
   ]
  },
  {
   "cell_type": "code",
   "execution_count": 16,
   "metadata": {},
   "outputs": [
    {
     "name": "stderr",
     "output_type": "stream",
     "text": [
      "100%|██████████| 5717/5717 [00:07<00:00, 739.19it/s]\n",
      "100%|██████████| 5717/5717 [00:05<00:00, 985.51it/s] \n",
      "100%|██████████| 5823/5823 [00:07<00:00, 728.45it/s]\n",
      "100%|██████████| 5823/5823 [00:05<00:00, 990.85it/s] \n"
     ]
    }
   ],
   "source": [
    "# # .jpgと.xmlをdst_dirの中のサブフォルダにコピー\n",
    "\n",
    "for f in tqdm(train_img_list):\n",
    "    file_id = os.path.basename(f)\n",
    "    shutil.copy(f, f\"{dst_dir}/train/images/{file_id}\")\n",
    "for f in tqdm(train_anno_list):\n",
    "    file_id = os.path.basename(f)\n",
    "    shutil.copy(f, f\"{dst_dir}/train/labels/{file_id}\")\n",
    "for f in tqdm(val_img_list):\n",
    "    file_id = os.path.basename(f)\n",
    "    shutil.copy(f, f\"{dst_dir}/val/images/{file_id}\")\n",
    "for f in tqdm(val_anno_list):\n",
    "    file_id = os.path.basename(f)\n",
    "    shutil.copy(f, f\"{dst_dir}/val/labels/{file_id}\")"
   ]
  },
  {
   "cell_type": "code",
   "execution_count": 17,
   "metadata": {},
   "outputs": [
    {
     "data": {
      "text/plain": [
       "'c:\\\\Users\\\\yuuki\\\\Kaggle\\\\object_detection_try\\\\voc'"
      ]
     },
     "execution_count": 17,
     "metadata": {},
     "output_type": "execute_result"
    }
   ],
   "source": [
    "getcwd()"
   ]
  },
  {
   "cell_type": "code",
   "execution_count": 22,
   "metadata": {},
   "outputs": [],
   "source": [
    "# .xmlから.txtに変換\n",
    "label_dirs = [f\"{dst_dir}/train/labels\", f\"{dst_dir}/val/labels\"]\n",
    "image_dirs = [f\"{dst_dir}/train/images\", f\"{dst_dir}/val/images\"]"
   ]
  },
  {
   "cell_type": "code",
   "execution_count": 23,
   "metadata": {},
   "outputs": [
    {
     "data": {
      "text/plain": [
       "['dataset/train/labels', 'dataset/val/labels']"
      ]
     },
     "execution_count": 23,
     "metadata": {},
     "output_type": "execute_result"
    }
   ],
   "source": [
    "label_dirs"
   ]
  },
  {
   "cell_type": "code",
   "execution_count": 24,
   "metadata": {},
   "outputs": [
    {
     "data": {
      "text/plain": [
       "['dataset/train/images', 'dataset/val/images']"
      ]
     },
     "execution_count": 24,
     "metadata": {},
     "output_type": "execute_result"
    }
   ],
   "source": [
    "image_dirs"
   ]
  },
  {
   "cell_type": "code",
   "execution_count": 26,
   "metadata": {},
   "outputs": [
    {
     "data": {
      "text/plain": [
       "'c:\\\\Users\\\\yuuki\\\\Kaggle\\\\object_detection_try\\\\voc'"
      ]
     },
     "execution_count": 26,
     "metadata": {},
     "output_type": "execute_result"
    }
   ],
   "source": [
    "cwd = getcwd()\n",
    "cwd"
   ]
  },
  {
   "cell_type": "code",
   "execution_count": 28,
   "metadata": {},
   "outputs": [
    {
     "name": "stdout",
     "output_type": "stream",
     "text": [
      "Finished processing: \n",
      "Finished processing: \n"
     ]
    }
   ],
   "source": [
    "# xmlからtxtファイルを作成するコード\n",
    "for image_dir_path, label_dir_path in list(zip(image_dirs, label_dirs)):\n",
    "    full_image_path = cwd + \"/\" + image_dir_path\n",
    "    full_label_path = cwd + \"/\" + label_dir_path\n",
    "    # print(full_image_path)\n",
    "    # print(full_label_path)\n",
    "\n",
    "    # xmlをtextに変えたファイルの出力先\n",
    "    output_path = full_label_path + '/'\n",
    "    # .jpgのpathを取得\n",
    "    image_paths = getImagesInDir(full_image_path)\n",
    "    # \n",
    "    with open(full_label_path + '.txt', 'w') as list_file:\n",
    "        for image_path in image_paths:\n",
    "            list_file.write(image_path + '\\n')\n",
    "            convert_annotation(full_label_path, output_path, image_path)\n",
    "\n",
    "        print(\"Finished processing: \")"
   ]
  },
  {
   "cell_type": "code",
   "execution_count": 29,
   "metadata": {},
   "outputs": [],
   "source": [
    "# xmlファイルをlabelsフォルダから削除する\n",
    "def delete_xml_files(folder_path):\n",
    "  \"\"\"\n",
    "  指定されたフォルダからすべてのXMLファイルを削除する関数\n",
    "\n",
    "  Args:\n",
    "      folder_path (str): XMLファイルを含むフォルダのパス\n",
    "\n",
    "  Returns:\n",
    "      None\n",
    "  \"\"\"\n",
    "\n",
    "  for filename in os.listdir(folder_path):\n",
    "    if filename.endswith('.xml'):\n",
    "      os.remove(os.path.join(folder_path, filename))\n"
   ]
  },
  {
   "cell_type": "code",
   "execution_count": 31,
   "metadata": {},
   "outputs": [],
   "source": [
    "# delete_xml_filesの実行\n",
    "for label_dir in label_dirs:\n",
    "  folder_path = label_dir\n",
    "  # print(folder_path)\n",
    "  delete_xml_files(folder_path)"
   ]
  },
  {
   "cell_type": "code",
   "execution_count": null,
   "metadata": {},
   "outputs": [],
   "source": []
  }
 ],
 "metadata": {
  "kernelspec": {
   "display_name": "py_310_yolo",
   "language": "python",
   "name": "python3"
  },
  "language_info": {
   "codemirror_mode": {
    "name": "ipython",
    "version": 3
   },
   "file_extension": ".py",
   "mimetype": "text/x-python",
   "name": "python",
   "nbconvert_exporter": "python",
   "pygments_lexer": "ipython3",
   "version": "3.10.14"
  }
 },
 "nbformat": 4,
 "nbformat_minor": 2
}
